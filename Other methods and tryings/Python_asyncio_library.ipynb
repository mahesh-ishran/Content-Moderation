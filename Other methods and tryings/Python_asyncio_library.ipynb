{
  "nbformat": 4,
  "nbformat_minor": 0,
  "metadata": {
    "colab": {
      "provenance": []
    },
    "kernelspec": {
      "name": "python3",
      "display_name": "Python 3"
    },
    "language_info": {
      "name": "python"
    }
  },
  "cells": [
    {
      "cell_type": "markdown",
      "source": [
        "Python’s asyncio module is used for asynchronous programming (async / await).\n",
        "Normally, you run async code like this:"
      ],
      "metadata": {
        "id": "Rg4aKZt-2pjc"
      }
    },
    {
      "cell_type": "markdown",
      "source": [
        "That works fine in a normal Python script.\n",
        "\n",
        "👉 But in some environments (like Jupyter Notebook, IPython, or Google Colab), there’s already an event loop running in the background.\n",
        "If you try to call asyncio.run() there, you’ll get: below error after running the below code."
      ],
      "metadata": {
        "id": "o8kN7oRC2v_7"
      }
    },
    {
      "cell_type": "code",
      "execution_count": null,
      "metadata": {
        "colab": {
          "base_uri": "https://localhost:8080/",
          "height": 309
        },
        "id": "tNw1y8p-2Ptl",
        "outputId": "2b3a3068-6ff2-44fe-91f0-e5ba58029c65"
      },
      "outputs": [
        {
          "output_type": "error",
          "ename": "RuntimeError",
          "evalue": "asyncio.run() cannot be called from a running event loop",
          "traceback": [
            "\u001b[0;31m---------------------------------------------------------------------------\u001b[0m",
            "\u001b[0;31mRuntimeError\u001b[0m                              Traceback (most recent call last)",
            "\u001b[0;32m/tmp/ipython-input-1426970795.py\u001b[0m in \u001b[0;36m<cell line: 0>\u001b[0;34m()\u001b[0m\n\u001b[1;32m      5\u001b[0m   \u001b[0;32mawait\u001b[0m \u001b[0masyncio\u001b[0m\u001b[0;34m.\u001b[0m\u001b[0msleep\u001b[0m\u001b[0;34m(\u001b[0m\u001b[0;36m1\u001b[0m\u001b[0;34m)\u001b[0m\u001b[0;34m\u001b[0m\u001b[0;34m\u001b[0m\u001b[0m\n\u001b[1;32m      6\u001b[0m   \u001b[0mprint\u001b[0m\u001b[0;34m(\u001b[0m\u001b[0;34m\"World\"\u001b[0m\u001b[0;34m)\u001b[0m\u001b[0;34m\u001b[0m\u001b[0;34m\u001b[0m\u001b[0m\n\u001b[0;32m----> 7\u001b[0;31m \u001b[0masyncio\u001b[0m\u001b[0;34m.\u001b[0m\u001b[0mrun\u001b[0m\u001b[0;34m(\u001b[0m\u001b[0mmain\u001b[0m\u001b[0;34m(\u001b[0m\u001b[0;34m)\u001b[0m\u001b[0;34m)\u001b[0m\u001b[0;34m\u001b[0m\u001b[0;34m\u001b[0m\u001b[0m\n\u001b[0m",
            "\u001b[0;32m/usr/lib/python3.12/asyncio/runners.py\u001b[0m in \u001b[0;36mrun\u001b[0;34m(main, debug, loop_factory)\u001b[0m\n\u001b[1;32m    189\u001b[0m     \u001b[0;32mif\u001b[0m \u001b[0mevents\u001b[0m\u001b[0;34m.\u001b[0m\u001b[0m_get_running_loop\u001b[0m\u001b[0;34m(\u001b[0m\u001b[0;34m)\u001b[0m \u001b[0;32mis\u001b[0m \u001b[0;32mnot\u001b[0m \u001b[0;32mNone\u001b[0m\u001b[0;34m:\u001b[0m\u001b[0;34m\u001b[0m\u001b[0;34m\u001b[0m\u001b[0m\n\u001b[1;32m    190\u001b[0m         \u001b[0;31m# fail fast with short traceback\u001b[0m\u001b[0;34m\u001b[0m\u001b[0;34m\u001b[0m\u001b[0m\n\u001b[0;32m--> 191\u001b[0;31m         raise RuntimeError(\n\u001b[0m\u001b[1;32m    192\u001b[0m             \"asyncio.run() cannot be called from a running event loop\")\n\u001b[1;32m    193\u001b[0m \u001b[0;34m\u001b[0m\u001b[0m\n",
            "\u001b[0;31mRuntimeError\u001b[0m: asyncio.run() cannot be called from a running event loop"
          ]
        }
      ],
      "source": [
        "import asyncio\n",
        "\n",
        "async def main():\n",
        "  print(\"Hello\")\n",
        "  await asyncio.sleep(1)\n",
        "  print(\"World\")\n",
        "asyncio.run(main())"
      ]
    },
    {
      "cell_type": "markdown",
      "source": [
        "🔹 What nest_asyncio does\n",
        "\n",
        "nest_asyncio is a small library that patches Python’s asyncio so you can nest event loops inside each other.\n",
        "\n",
        "nest_asyncio.apply() modifies (monkey-patches) the default event loop behavior.\n",
        "\n",
        "After applying it, you can safely call async functions (and even start new event loops) inside an environment that already has one running."
      ],
      "metadata": {
        "id": "u5sZTsqH2_Ty"
      }
    },
    {
      "cell_type": "code",
      "source": [
        "import nest_asyncio\n",
        "import asyncio\n",
        "\n",
        "# Fix event loop so we can nest it\n",
        "nest_asyncio.apply()\n",
        "\n",
        "async def greet():\n",
        "    print(\"Hello\")\n",
        "    await asyncio.sleep(1)\n",
        "    print(\"World\")\n",
        "\n",
        "# ✅ Now works fine even in Jupyter\n",
        "asyncio.run(greet())"
      ],
      "metadata": {
        "colab": {
          "base_uri": "https://localhost:8080/"
        },
        "id": "eIta7Nu62-hu",
        "outputId": "8f20ea54-ebcf-4de2-aff7-568a1dd07e72"
      },
      "execution_count": null,
      "outputs": [
        {
          "output_type": "stream",
          "name": "stdout",
          "text": [
            "Hello\n",
            "World\n"
          ]
        }
      ]
    },
    {
      "cell_type": "markdown",
      "source": [
        "✅ In short:\n",
        "nest_asyncio.apply() patches asyncio so you can re-enter or nest event loops. It’s mainly used in interactive environments (like Jupyter) where an event loop is already running, so you can still run asyncio.run() or await things normally."
      ],
      "metadata": {
        "id": "LzPWS8xX3PJr"
      }
    },
    {
      "cell_type": "markdown",
      "source": [
        "\n",
        "\n",
        "---\n",
        "\n"
      ],
      "metadata": {
        "id": "8Zg9muUl3JWS"
      }
    },
    {
      "cell_type": "markdown",
      "source": [
        "🔹 1. The problem asyncio solves\n",
        "\n",
        "Normally, Python executes code synchronously — one line at a time.\n",
        "\n",
        "Example:"
      ],
      "metadata": {
        "id": "mr8K31Mo3LSo"
      }
    },
    {
      "cell_type": "code",
      "source": [
        "import time\n",
        "\n",
        "def task1():\n",
        "    print(\"Start task1\")\n",
        "    time.sleep(2)   # Blocks program for 2 seconds\n",
        "    print(\"End task1\")\n",
        "\n",
        "def task2():\n",
        "    print(\"Start task2\")\n",
        "    time.sleep(2)   # Blocks program for 2 seconds\n",
        "    print(\"End task2\")\n",
        "\n",
        "task1()\n",
        "task2()"
      ],
      "metadata": {
        "colab": {
          "base_uri": "https://localhost:8080/"
        },
        "id": "Wetf1n1e3UBM",
        "outputId": "15e53cff-20bd-47ea-b003-1090757740c6"
      },
      "execution_count": null,
      "outputs": [
        {
          "output_type": "stream",
          "name": "stdout",
          "text": [
            "Start task1\n",
            "End task1\n",
            "Start task2\n",
            "End task2\n"
          ]
        }
      ]
    },
    {
      "cell_type": "markdown",
      "source": [
        "➡️ Both tasks block each other because time.sleep() stops everything."
      ],
      "metadata": {
        "id": "-_BNf4Qw3j_a"
      }
    },
    {
      "cell_type": "markdown",
      "source": [
        "🔹 2. Enter asyncio\n",
        "\n",
        "asyncio is Python’s library for asynchronous programming.\n",
        "\n",
        "It lets you write code that can pause at certain points (like waiting for I/O, network, or sleep)\n",
        "\n",
        "and allow other tasks to run in the meantime.\n",
        "\n",
        "This doesn’t create new threads or processes → it’s still single-threaded, but it switches between tasks when one is waiting.\n",
        "\n",
        "Think of it like:\n",
        "\n",
        "Synchronous: A chef cooks dish A completely, then starts dish B.\n",
        "\n",
        "Asynchronous: While dish A is in the oven (waiting), the chef starts cooking dish B."
      ],
      "metadata": {
        "id": "3qaf6xEJ3k_Y"
      }
    },
    {
      "cell_type": "markdown",
      "source": [
        "Example-1"
      ],
      "metadata": {
        "id": "Rug2AMSm6zbZ"
      }
    },
    {
      "cell_type": "code",
      "source": [
        "import asyncio\n",
        "import time\n",
        "\n",
        "async def async_task(name, duration):\n",
        "  \"\"\"An asynchronous task that sleeps for a given duration.\"\"\"\n",
        "  print(f\"Start {name}\")\n",
        "  await asyncio.sleep(duration)   # Non-blocking sleep\n",
        "  print(f\"End {name}\")\n",
        "\n",
        "async def main():\n",
        "  \"\"\"Runs multiple asynchronous tasks concurrently.\"\"\"\n",
        "  print(\"Starting asynchronous tasks...\")\n",
        "  # Run multiple tasks at the same time\n",
        "  await asyncio.gather(\n",
        "      async_task(\"Task 1\", 3),\n",
        "      async_task(\"Task 2\", 2),\n",
        "      async_task(\"Task 3\", 4),\n",
        "      async_task(\"Task 4\", 1)\n",
        "  )\n",
        "  print(\"All asynchronous tasks finished.\")\n",
        "\n",
        "# Use nest_asyncio to allow asyncio.run() in environments with a running event loop\n",
        "import nest_asyncio\n",
        "nest_asyncio.apply()\n",
        "\n",
        "# Run the main asynchronous function\n",
        "asyncio.run(main())"
      ],
      "metadata": {
        "colab": {
          "base_uri": "https://localhost:8080/"
        },
        "id": "MjwTmnMn4EGf",
        "outputId": "b1925ca1-b96c-4dab-fc19-72cba8bd3fcc"
      },
      "execution_count": null,
      "outputs": [
        {
          "output_type": "stream",
          "name": "stdout",
          "text": [
            "Starting asynchronous tasks...\n",
            "Start Task 1\n",
            "Start Task 2\n",
            "Start Task 3\n",
            "Start Task 4\n",
            "End Task 4\n",
            "End Task 2\n",
            "End Task 1\n",
            "End Task 3\n",
            "All asynchronous tasks finished.\n"
          ]
        }
      ]
    },
    {
      "cell_type": "markdown",
      "source": [
        "all the run concurrently using `asyncio.gather()`."
      ],
      "metadata": {
        "id": "O74-IW7o7JEv"
      }
    },
    {
      "cell_type": "markdown",
      "source": [
        "Example-2"
      ],
      "metadata": {
        "id": "OUGHvCIu65Bl"
      }
    },
    {
      "cell_type": "code",
      "source": [
        "import asyncio\n",
        "\n",
        "async def task1():\n",
        "    print(\"Start task1\")\n",
        "    await asyncio.sleep(2)   # Non-blocking sleep\n",
        "    print(\"End task1\")\n",
        "\n",
        "async def task2():\n",
        "    print(\"Start task2\")\n",
        "    await asyncio.sleep(2)\n",
        "    print(\"End task2\")\n",
        "\n",
        "async def main():\n",
        "    # Run both tasks at the same time\n",
        "    await asyncio.gather(task1(), task2())\n",
        "\n",
        "asyncio.run(main())"
      ],
      "metadata": {
        "colab": {
          "base_uri": "https://localhost:8080/"
        },
        "id": "Fkosq55v66kr",
        "outputId": "94a62365-2f78-4520-9645-3e026997a590"
      },
      "execution_count": null,
      "outputs": [
        {
          "output_type": "stream",
          "name": "stdout",
          "text": [
            "Start task1\n",
            "Start task2\n",
            "End task1\n",
            "End task2\n"
          ]
        }
      ]
    },
    {
      "cell_type": "markdown",
      "source": [
        "###**Key concepts in `asyncio`**\n",
        "\n",
        "1) `async def` : Defines a coroutine (a special function that can pause/resume).\n",
        "\n",
        "```\n",
        "async def my_task():\n",
        "  ...\n",
        "```\n",
        "\n",
        "2) `await` : Pauses the coroutine until the awaited task finishes.\n",
        "\n",
        "```\n",
        "await asyncio.sleep(1) # give control back to event loop\n",
        "```\n",
        "\n",
        "3) `Event Loop` : The \"scheduler\" that runs all async tasks.\n",
        "\n",
        "`asyncio.run(main())`\n",
        "\n",
        "starts the event loop, runs main(), and stops the loop when finished.\n",
        "\n",
        "4) `asyncio.gather()` : Run multiple coroutines concurrently.\n",
        "\n",
        "```\n",
        "await asyncio.gather(task1(), task2(), task3())\n",
        "```\n",
        "\n",
        "5) Difference between `time.sleep()` and `asyncio.sleep()`\n",
        "\n",
        "`time.sleep(2)` → blocks everything for 2 seconds.\n",
        "\n",
        "`await asyncio.sleep(2)` → pauses this coroutine but allows other coroutines to run during that time."
      ],
      "metadata": {
        "id": "KZqCFv247VcS"
      }
    }
  ]
}